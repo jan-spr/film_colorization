{
 "cells": [
  {
   "cell_type": "code",
   "execution_count": 4,
   "metadata": {},
   "outputs": [],
   "source": [
    "import os\n",
    "import matplotlib.pyplot as plt\n",
    "import cv2\n",
    "import torch\n",
    "import torch.nn as nn\n",
    "import numpy as np\n",
    "\n",
    "from tqdm import tqdm\n",
    "from torch.utils.data import DataLoader\n",
    "\n",
    "from utility import *\n",
    "from unet import UNet\n",
    "from dataloader import CustomImageDataset, data_to_images, images_to_data"
   ]
  },
  {
   "cell_type": "markdown",
   "metadata": {},
   "source": [
    "# Demo of the trained Colorization Model"
   ]
  },
  {
   "cell_type": "markdown",
   "metadata": {},
   "source": [
    "For now just colorizes the images of a video, and stores them as a new video."
   ]
  },
  {
   "cell_type": "markdown",
   "metadata": {},
   "source": [
    "## 1. Data Loading\n",
    "\n",
    "using the pytorch dataloader and dataset implementation from DataLoad.py"
   ]
  },
  {
   "cell_type": "code",
   "execution_count": 5,
   "metadata": {},
   "outputs": [],
   "source": [
    "# HYPERPARAMETERS\n",
    "dataset_path = '/Users/Mika/Desktop/10_Semester/3DCV/PROJECT/DAVIS'\n",
    "subdir = 'val'\n",
    "res = '176p'\n",
    "method = 'deepflow'\n",
    "use_flow = True"
   ]
  },
  {
   "cell_type": "code",
   "execution_count": 10,
   "metadata": {},
   "outputs": [
    {
     "name": "stdout",
     "output_type": "stream",
     "text": [
      "vid labels: ['aerobatics', 'car-race', 'carousel', 'cats-car', 'chamaleon', 'deer', 'giant-slalom', 'girl-dog', 'golf', 'guitar-violin', 'gym', 'helicopter', 'horsejump-stick', 'hoverboard', 'lock', 'man-bike', 'monkeys-trees', 'mtb-race', 'orchid', 'people-sunset', 'planes-crossing', 'rollercoaster', 'salsa', 'seasnake', 'skate-jump', 'slackline', 'subway', 'tandem', 'tennis-vest', 'tractor']\n",
      "Dataset size: 2056\n",
      "12.088855117483794\n"
     ]
    }
   ],
   "source": [
    "dataset = CustomImageDataset(dataset_path, subdir, res, method, use_flow)\n",
    "\n",
    "dataset_size = len(dataset)\n",
    "print('Dataset size:', dataset_size)\n",
    "\n",
    "img1_path = '/Users/Mika/Desktop/10_Semester/3DCV/PROJECT/DAVIS/train/176p/bear/00000.jpg'\n",
    "img2_path = '/Users/Mika/Desktop/10_Semester/3DCV/PROJECT/DAVIS/train/176p/bear/00081.jpg'\n",
    "img1 = cv2.imread(img1_path)\n",
    "img2 = cv2.imread(img2_path)\n",
    "\n",
    "psnr = cv2.PSNR(img1, img2)\n",
    "print(psnr)"
   ]
  },
  {
   "cell_type": "markdown",
   "metadata": {},
   "source": [
    "## 2. Model Loading"
   ]
  },
  {
   "cell_type": "code",
   "execution_count": null,
   "metadata": {},
   "outputs": [],
   "source": [
    "\n",
    "\n",
    "print(\"Cuda available: \", torch.cuda.is_available())\n",
    "\n",
    "#device = torch.device(\"cuda\" if torch.cuda.is_available() else \"cpu\")\n",
    "device = torch.device(\"cpu\")\n",
    "\n",
    "print(\"Using device: \", device)"
   ]
  },
  {
   "cell_type": "code",
   "execution_count": null,
   "metadata": {},
   "outputs": [],
   "source": [
    "#initialize model\n",
    "if use_flow:\n",
    "    n_input_channels = 6\n",
    "else:\n",
    "    n_input_channels = 4\n",
    "\n",
    "model = UNet(n_input_channels=n_input_channels)\n",
    "model.to(device)\n",
    "\n",
    "# Hyperparameters\n",
    "learning_rate = 1e-3\n",
    "batch_size = 16\n",
    "epochs = 300\n",
    "\n",
    "# Initialize the loss function\n",
    "loss_fn = nn.MSELoss()\n",
    "\n",
    "\n",
    "# Data loader\n",
    "train_dataloader = DataLoader(dataset, batch_size=batch_size, shuffle=True)"
   ]
  },
  {
   "cell_type": "code",
   "execution_count": null,
   "metadata": {},
   "outputs": [],
   "source": [
    "model_path = '~/Documents/Colorization/Models/'\n",
    "UNet_folder = 'UNet'\n",
    "model_path = os.path.expanduser(model_path)\n",
    "UNet_folder = os.path.join(model_path, UNet_folder)"
   ]
  },
  {
   "cell_type": "code",
   "execution_count": null,
   "metadata": {},
   "outputs": [],
   "source": [
    "model_folder = 'UNet_Flow_'+str(epochs)+'_epochs'\n",
    "\n",
    "filename = 'UNet_Flow_epoch_295.pth'\n",
    "\n",
    "resume(model, os.path.join(model_folder, filename))"
   ]
  },
  {
   "cell_type": "markdown",
   "metadata": {},
   "source": [
    "## 3. Video Rendering"
   ]
  },
  {
   "cell_type": "code",
   "execution_count": null,
   "metadata": {},
   "outputs": [],
   "source": [
    "# HYPERPARAMETERS\n",
    "dataset_path = '/Users/Mika/Desktop/10_Semester/3DCV/PROJECT/DAVIS'\n",
    "subdir = 'train'\n",
    "res = '480p'\n",
    "video_folder = 'AVI_videos'\n",
    "fps = 24\n",
    "\n",
    "# Run the actual function to make the images of a complete folder to videos\n",
    "# all_images_2_video(dataset_path, subdir, res, video_folder, fps)"
   ]
  },
  {
   "cell_type": "code",
   "execution_count": null,
   "metadata": {},
   "outputs": [],
   "source": [
    "dataset_path = '~/Documents/Colorization/Datasets/'\n",
    "dataset_name = 'DAVIS'\n",
    "image_folder = 'JPEGImages'\n",
    "\n",
    "dataset_path = os.path.expanduser(dataset_path)\n",
    "dataset_path = os.path.join(dataset_path, dataset_name)\n",
    "img_folder_path = os.path.join(dataset_path, image_folder)\n",
    "nd_array_path = os.path.join(dataset_path, 'nd_arrays')\n",
    "nd_array_path = os.path.join(nd_array_path, '176p_deepflow')\n",
    "\n",
    "resolution = '176p'\n",
    "label = 'gray'\n",
    "img_folder_path = os.path.join(img_folder_path, resolution+'_'+label)\n",
    "\n",
    "save_label = 'UNet_Flow'"
   ]
  },
  {
   "cell_type": "code",
   "execution_count": null,
   "metadata": {},
   "outputs": [],
   "source": [
    "for video_name in os.listdir(img_folder_path):\n",
    "    print('Video name:', video_name)\n",
    "    video_path = os.path.join(img_folder_path, video_name)\n",
    "    save_path = '~/Documents/Colorization/Results/'\n",
    "    save_path = os.path.expanduser(save_path)\n",
    "    save_path = os.path.join(save_path, save_label, video_name)\n",
    "    make_dir(save_path)\n",
    "    still_path = os.path.join(save_path, 'stills')\n",
    "    make_dir(still_path)\n",
    "\n",
    "    n_frames = len(os.listdir(video_path))\n",
    "    print('Number of frames:', n_frames)\n",
    "\n",
    "    col_img = load_image(os.path.join(dataset_path, image_folder,resolution,video_name, '00000.jpg'))\n",
    "    print(os.path.join(dataset_path, image_folder,resolution,video_name, '00000.jpg'))\n",
    "\n",
    "\n",
    "    gray_img = None\n",
    "    flow_img = None\n",
    "    i = 1\n",
    "    while i < n_frames:\n",
    "        img_path = os.path.join(video_path, str(i).zfill(5)+'.jpg')\n",
    "        gray_img = load_image(img_path)\n",
    "        if use_flow:\n",
    "            flow_frame = flow_frame = os.path.join(nd_array_path,video_name, str(i).zfill(5) + '.jpg.npy')\n",
    "            flow_img = np.load(flow_frame)\n",
    "        \n",
    "        input, _ = images_to_data(col_img, flow_img, gray_img)\n",
    "        \n",
    "        prediction = model(input.unsqueeze(0).to(device))\n",
    "        prediction = prediction.cpu()\n",
    "        prediction = prediction.detach()\n",
    "        prediction = prediction.squeeze(0)\n",
    "\n",
    "        _, flow_img, grey_img, pred_img = data_to_images(input, prediction, use_flow=use_flow, input_only=False)\n",
    "\n",
    "        col_img = cv2.cvtColor(pred_img, cv2.COLOR_RGB2BGR)\n",
    "\n",
    "        if i%2==0:\n",
    "            save_image(pred_img, os.path.join(still_path, str(i).zfill(5)+'.jpg'))\n",
    "        else:\n",
    "            save_image(cv2.cvtColor(pred_img, cv2.COLOR_RGB2BGR), os.path.join(still_path, str(i).zfill(5)+'.jpg'))\n",
    "\n",
    "        col_img = pred_img\n",
    "        i+=1\n",
    "\n",
    "    images_2_video(still_path, os.path.join(save_path, video_name+'.avi'), fps=10)"
   ]
  },
  {
   "cell_type": "code",
   "execution_count": null,
   "metadata": {},
   "outputs": [],
   "source": []
  },
  {
   "cell_type": "code",
   "execution_count": null,
   "metadata": {},
   "outputs": [],
   "source": []
  }
 ],
 "metadata": {
  "kernelspec": {
   "display_name": "Python 3 (ipykernel)",
   "language": "python",
   "name": "python3"
  },
  "language_info": {
   "codemirror_mode": {
    "name": "ipython",
    "version": 3
   },
   "file_extension": ".py",
   "mimetype": "text/x-python",
   "name": "python",
   "nbconvert_exporter": "python",
   "pygments_lexer": "ipython3",
   "version": "3.8.12"
  }
 },
 "nbformat": 4,
 "nbformat_minor": 2
}
